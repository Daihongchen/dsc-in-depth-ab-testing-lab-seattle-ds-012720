{
 "cells": [
  {
   "cell_type": "markdown",
   "metadata": {},
   "source": [
    "# In Depth A/B Testing - Lab\n",
    "\n",
    "## Introduction\n",
    "\n",
    "In this lab, you'll explore a survey from Kaggle regarding budding data scientists. With this, you'll form some initial hypotheses, and test them using the tools you've acquired to date. \n",
    "\n",
    "## Objectives\n",
    "\n",
    "You will be able to:\n",
    "* Conduct t-tests and an ANOVA on a real-world dataset and interpret the results"
   ]
  },
  {
   "cell_type": "markdown",
   "metadata": {},
   "source": [
    "## Load the Dataset and Perform a Brief Exploration\n",
    "\n",
    "The data is stored in a file called **multipleChoiceResponses_cleaned.csv**. Feel free to check out the original dataset referenced at the bottom of this lab, although this cleaned version will undoubtedly be easier to work with. Additionally, meta-data regarding the questions is stored in a file name **schema.csv**. Load in the data itself as a Pandas DataFrame, and take a moment to briefly get acquainted with it.\n",
    "\n",
    "> Note: If you can't get the file to load properly, try changing the encoding format as in `encoding='latin1'`"
   ]
  },
  {
   "cell_type": "code",
   "execution_count": 216,
   "metadata": {},
   "outputs": [],
   "source": [
    "#Your code here\n",
    "import numpy as np\n",
    "import pandas as pd\n",
    "from statsmodels.stats.power import TTestIndPower, TTestPower\n",
    "import scipy.stats as stats\n",
    "import matplotlib.pyplot as plt\n",
    "import seaborn as sns\n",
    "import flatiron_stats as fts\n",
    "import seaborn as sns\n",
    "import pandas as pd\n",
    "import statsmodels.api as sm\n",
    "from statsmodels.formula.api import ols\n",
    "%matplotlib inline\n",
    "sns.set_style(\"whitegrid\")\n",
    "\n"
   ]
  },
  {
   "cell_type": "code",
   "execution_count": 203,
   "metadata": {},
   "outputs": [
    {
     "name": "stderr",
     "output_type": "stream",
     "text": [
      "/Users/daihongchen/opt/anaconda3/envs/learn-env/lib/python3.6/site-packages/IPython/core/interactiveshell.py:3058: DtypeWarning: Columns (1,2,3,4,5,6,7,8,9,10,11,12,13,14,15,16,17,18,19,20,21,22,23,24,25,26,27,28,29,30,31,32,33,34,35,36,37,38,39,40,41,42,43,44,45,46,47,48,49,50,51,52,53,54,55,56,57,58,65,66,67,68,69,70,71,72,73,74,75,76,77,78,79,80,81,82,83,84,85,86,87,88,89,90,91,92,93,94,95,96,97,98,99,100,101,102,103,104,105,106,107,108,109,110,111,112,113,114,115,116,117,118,119,120,121,122,123,124,125,126,127,128,129,130,131,132,133,134,135,136,137,138,139,140,141,142,143,144,145,146,147,148,149,150,151,152,153,154,155,156,157,158,159,160,161,162,163,164,165,172,173,174,175,176,177,178,179,180,181,182,183,184,185,186,187,188,189,190,191,192,193,194,195,196,197,198,199,200,201,202,203,204,205,207,208,209,210,211,212,213,214,215,216,217,218,219,220,221,222,223,224,225,226,227) have mixed types. Specify dtype option on import or set low_memory=False.\n",
      "  interactivity=interactivity, compiler=compiler, result=result)\n"
     ]
    },
    {
     "data": {
      "text/html": [
       "<div>\n",
       "<style scoped>\n",
       "    .dataframe tbody tr th:only-of-type {\n",
       "        vertical-align: middle;\n",
       "    }\n",
       "\n",
       "    .dataframe tbody tr th {\n",
       "        vertical-align: top;\n",
       "    }\n",
       "\n",
       "    .dataframe thead th {\n",
       "        text-align: right;\n",
       "    }\n",
       "</style>\n",
       "<table border=\"1\" class=\"dataframe\">\n",
       "  <thead>\n",
       "    <tr style=\"text-align: right;\">\n",
       "      <th></th>\n",
       "      <th>FormalEducation</th>\n",
       "      <th>AdjustedCompensation</th>\n",
       "    </tr>\n",
       "  </thead>\n",
       "  <tbody>\n",
       "    <tr>\n",
       "      <td>0</td>\n",
       "      <td>Bachelor's degree</td>\n",
       "      <td>NaN</td>\n",
       "    </tr>\n",
       "    <tr>\n",
       "      <td>1</td>\n",
       "      <td>Master's degree</td>\n",
       "      <td>NaN</td>\n",
       "    </tr>\n",
       "    <tr>\n",
       "      <td>2</td>\n",
       "      <td>Master's degree</td>\n",
       "      <td>NaN</td>\n",
       "    </tr>\n",
       "    <tr>\n",
       "      <td>3</td>\n",
       "      <td>Master's degree</td>\n",
       "      <td>250000.0</td>\n",
       "    </tr>\n",
       "    <tr>\n",
       "      <td>4</td>\n",
       "      <td>Doctoral degree</td>\n",
       "      <td>NaN</td>\n",
       "    </tr>\n",
       "    <tr>\n",
       "      <td>...</td>\n",
       "      <td>...</td>\n",
       "      <td>...</td>\n",
       "    </tr>\n",
       "    <tr>\n",
       "      <td>26389</td>\n",
       "      <td>Master's degree</td>\n",
       "      <td>NaN</td>\n",
       "    </tr>\n",
       "    <tr>\n",
       "      <td>26390</td>\n",
       "      <td>Bachelor's degree</td>\n",
       "      <td>NaN</td>\n",
       "    </tr>\n",
       "    <tr>\n",
       "      <td>26391</td>\n",
       "      <td>NaN</td>\n",
       "      <td>NaN</td>\n",
       "    </tr>\n",
       "    <tr>\n",
       "      <td>26392</td>\n",
       "      <td>I prefer not to answer</td>\n",
       "      <td>NaN</td>\n",
       "    </tr>\n",
       "    <tr>\n",
       "      <td>26393</td>\n",
       "      <td>I did not complete any formal education past h...</td>\n",
       "      <td>NaN</td>\n",
       "    </tr>\n",
       "  </tbody>\n",
       "</table>\n",
       "<p>26394 rows × 2 columns</p>\n",
       "</div>"
      ],
      "text/plain": [
       "                                         FormalEducation  AdjustedCompensation\n",
       "0                                      Bachelor's degree                   NaN\n",
       "1                                        Master's degree                   NaN\n",
       "2                                        Master's degree                   NaN\n",
       "3                                        Master's degree              250000.0\n",
       "4                                        Doctoral degree                   NaN\n",
       "...                                                  ...                   ...\n",
       "26389                                    Master's degree                   NaN\n",
       "26390                                  Bachelor's degree                   NaN\n",
       "26391                                                NaN                   NaN\n",
       "26392                             I prefer not to answer                   NaN\n",
       "26393  I did not complete any formal education past h...                   NaN\n",
       "\n",
       "[26394 rows x 2 columns]"
      ]
     },
     "execution_count": 203,
     "metadata": {},
     "output_type": "execute_result"
    }
   ],
   "source": [
    "df = pd.read_csv('multipleChoiceResponses_cleaned.csv')\n",
    "df.sample(5)\n",
    "df.columns\n",
    "edu_salary = df[['FormalEducation', 'AdjustedCompensation']]\n",
    "edu_salary"
   ]
  },
  {
   "cell_type": "markdown",
   "metadata": {},
   "source": [
    "## Wages and Education\n",
    "\n",
    "You've been asked to determine whether education is impactful to salary. Develop a hypothesis test to compare the salaries of those with Master's degrees to those with Bachelor's degrees. Are the two statistically different according to your results?\n",
    "\n",
    "> Note: The relevant features are stored in the 'FormalEducation' and 'AdjustedCompensation' features.\n",
    "\n",
    "You may import the functions stored in the `flatiron_stats.py` file to help perform your hypothesis tests. It contains the stats functions that you previously coded: `welch_t(a,b)`, `welch_df(a, b)`, and `p_value(a, b, two_sided=False)`. \n",
    "\n",
    "Note that `scipy.stats.ttest_ind(a, b, equal_var=False)` performs a two-sided Welch's t-test and that p-values derived from two-sided tests are two times the p-values derived from one-sided tests. See the [documentation](https://docs.scipy.org/doc/scipy/reference/generated/scipy.stats.ttest_ind.html) for more information.    "
   ]
  },
  {
   "cell_type": "code",
   "execution_count": 204,
   "metadata": {},
   "outputs": [
    {
     "name": "stdout",
     "output_type": "stream",
     "text": [
      "The df is: 2002.76\n",
      "The t  is: 3.62\n",
      "The p value is: 0.0\n",
      "the t is 3.62, and the p is 0.0\n",
      "Because the p value is greater than 0.05, we have the evindences to reject the null hypothesis that the mean of salaries of those who have master'sdegree is the same as the mean of salaries of those who have bachelor's degree\n"
     ]
    }
   ],
   "source": [
    "#Your code here\n",
    "\n",
    "\"\"\"\n",
    "Null hypothesis: the mean of salaries of those with Master's degrees is the same as the mean of salaries of those with Bachelor's degrees. \n",
    "\"\"\"\n",
    "\n",
    "salary_master = edu_salary[edu_salary['FormalEducation']== \"Master's degree\"].dropna()\n",
    "salary_bachelor = edu_salary[edu_salary['FormalEducation']==\"Bachelor's degree\"].dropna()\n",
    "\n",
    "\n",
    "salary_b_fix = salary_bachelor[(salary_bachelor['AdjustedCompensation'] <= 1000000.00) & (salary_bachelor['AdjustedCompensation'] > 0)]\n",
    "salary_m_fix = salary_master[(salary_master['AdjustedCompensation'] <= 1000000.00) & (salary_master['AdjustedCompensation'] > 0)]\n",
    "\n",
    "print(f\"The df is: {fts.welch_df(salary_m_fix['AdjustedCompensation'], salary_b_fix['AdjustedCompensation']).round(3)}\")\n",
    "print(f\"The t  is: {fts.welch_t(salary_m_fix['AdjustedCompensation'], salary_b_fix['AdjustedCompensation']).round(3)}\")\n",
    "print(f\"The p value is: {fts.p_value_welch_ttest(salary_m_fix['AdjustedCompensation'], salary_b_fix['AdjustedCompensation'], two_sided = True).round(3)}\")\n",
    "\n",
    "t, p = stats.ttest_ind(salary_m_fix['AdjustedCompensation'], salary_b_fix['AdjustedCompensation'], equal_var = False, nan_policy = 'omit')\n",
    "print(f\"the t is {t.round(3)}, and the p is {p.round(3)}\")\n",
    "# print(salary_master['AdjustedCompensation'])\n",
    "# len(salary_bachelor)\n",
    "\n",
    "print(\"Because the p value is smaller than 0.05, we have the evindences to reject the null hypothesis that the mean of salaries of those who have master's\\\n",
    "degree is the same as the mean of salaries of those who have bachelor's degree\")\n",
    "\n"
   ]
  },
  {
   "cell_type": "markdown",
   "metadata": {},
   "source": [
    "## Wages and Education II\n",
    "\n",
    "Now perform a similar statistical test comparing the AdjustedCompensation of those with Bachelor's degrees and those with Doctorates. If you haven't already, be sure to explore the distribution of the AdjustedCompensation feature for any anomalies. "
   ]
  },
  {
   "cell_type": "code",
   "execution_count": 205,
   "metadata": {},
   "outputs": [
    {
     "name": "stdout",
     "output_type": "stream",
     "text": [
      "count    9.670000e+02\n",
      "mean     2.956618e+07\n",
      "std      9.099981e+08\n",
      "min     -7.351631e+01\n",
      "25%      4.000000e+04\n",
      "50%      7.413192e+04\n",
      "75%      1.200000e+05\n",
      "max      2.829740e+10\n",
      "Name: AdjustedCompensation, dtype: float64\n",
      "(array([114.,  93.,  71.,  65.,  54.,  43.,  40.,  39.,  43.,  39.,  41.,\n",
      "        35.,  30.,  41.,  25.,  20.,  28.,  16.,  32.,  21.,   9.,  10.,\n",
      "        10.,  14.,  10.,   2.,   3.,   1.,   0.,   9.,   3.,   2.,   3.,\n",
      "        13.,   0.,   0.,   3.,   1.,   1.,   0.,   1.,   2.,   0.,   0.,\n",
      "         0.,   0.,   0.,   0.,   0.,   1.]), array([  2000.,   7960.,  13920.,  19880.,  25840.,  31800.,  37760.,\n",
      "        43720.,  49680.,  55640.,  61600.,  67560.,  73520.,  79480.,\n",
      "        85440.,  91400.,  97360., 103320., 109280., 115240., 121200.,\n",
      "       127160., 133120., 139080., 145040., 151000., 156960., 162920.,\n",
      "       168880., 174840., 180800., 186760., 192720., 198680., 204640.,\n",
      "       210600., 216560., 222520., 228480., 234440., 240400., 246360.,\n",
      "       252320., 258280., 264240., 270200., 276160., 282120., 288080.,\n",
      "       294040., 300000.]), <a list of 50 Patch objects>)\n",
      "(array([23., 20., 35., 42., 37., 30., 34., 40., 57., 43., 41., 35., 28.,\n",
      "       45., 37., 27., 35., 31., 21., 30., 12., 19., 13., 19., 28.,  6.,\n",
      "       19.,  9., 10., 17.,  7.,  3.,  8., 16.,  2.,  1.,  2.,  2.,  2.,\n",
      "        5.,  1.,  5.,  1.,  1.,  2.,  0.,  1.,  0.,  0.,  6.]), array([  2000.,   7960.,  13920.,  19880.,  25840.,  31800.,  37760.,\n",
      "        43720.,  49680.,  55640.,  61600.,  67560.,  73520.,  79480.,\n",
      "        85440.,  91400.,  97360., 103320., 109280., 115240., 121200.,\n",
      "       127160., 133120., 139080., 145040., 151000., 156960., 162920.,\n",
      "       168880., 174840., 180800., 186760., 192720., 198680., 204640.,\n",
      "       210600., 216560., 222520., 228480., 234440., 240400., 246360.,\n",
      "       252320., 258280., 264240., 270200., 276160., 282120., 288080.,\n",
      "       294040., 300000.]), <a list of 50 Patch objects>)\n"
     ]
    },
    {
     "data": {
      "image/png": "[encoded data removed]",
      "text/plain": [
       "<Figure size 432x288 with 1 Axes>"
      ]
     },
     "metadata": {},
     "output_type": "display_data"
    }
   ],
   "source": [
    "#Your code here\n",
    "salary_doctor = edu_salary[edu_salary['FormalEducation'] == \"Doctoral degree\"].dropna()\n",
    "salary_bachelor = edu_salary[edu_salary['FormalEducation']==\"Bachelor's degree\"].dropna()\n",
    "\n",
    "print (salary_doctor['AdjustedCompensation'].describe())\n",
    "# plt.hist(salary_bachelor['AdjustedCompensation'].astype('int'), bins = 5)\n",
    "# sns.distplot(salary_bachelor[salary_bachelor['AdjustedCompensation'] <= 120000.0])\n",
    "# plt.hist(salary_doctor['AdjustedCompensation'])\n",
    "# plt.hist(salary_doctor['AdjustedCompensation'], bins = 5)\n",
    "# plt.hist(salary_bachelor['AdjustedCompensation'], bins =5)\n",
    "\n",
    "salary_b_fix = salary_bachelor[(salary_bachelor['AdjustedCompensation'] <= 1000000.00) & (salary_bachelor['AdjustedCompensation'] > 0)]\n",
    "salary_d_fix = salary_doctor[(salary_doctor['AdjustedCompensation'] <= 1000000.00) & (salary_doctor['AdjustedCompensation'] > 0)]\n",
    "print(plt.hist(salary_b_fix['AdjustedCompensation'], range=[2000, 300000], bins=50))\n",
    "print(plt.hist(salary_d_fix['AdjustedCompensation'], range=[2000, 300000], bins=50))\n",
    "# \n",
    "t, p = stats.ttest_ind(salary_b_fix['AdjustedCompensation'], salary_d_fix['AdjustedCompensation'], equal_var = False, nan_policy = 'omit')"
   ]
  },
  {
   "cell_type": "code",
   "execution_count": 208,
   "metadata": {},
   "outputs": [
    {
     "name": "stdout",
     "output_type": "stream",
     "text": [
      "the t is -10.0, and the p is 0.0\n",
      "Because the p value is smaller than 0.05, we have the evindences to reject the null hypothesis that the mean of salaries of those who have master'sdegree is the same as the mean of salaries of those who have bachelor's degree\n"
     ]
    }
   ],
   "source": [
    "print(f\"the t is {t.round(3)}, and the p is {p.round(3)}\")\n",
    "\n",
    "print(\"Because the p value is smaller than 0.05, we have the evindences to reject the null hypothesis that the mean of salaries of those who have doctor's\\\n",
    "degree is the same as the mean of salaries of those who have bachelor's degree\")"
   ]
  },
  {
   "cell_type": "markdown",
   "metadata": {},
   "source": [
    "## Wages and Education III\n",
    "\n",
    "Remember the multiple comparisons problem; rather than continuing on like this, perform an ANOVA test between the various 'FormalEducation' categories and their relation to 'AdjustedCompensation'."
   ]
  },
  {
   "cell_type": "code",
   "execution_count": 210,
   "metadata": {},
   "outputs": [],
   "source": [
    "import pandas as pd\n",
    "import statsmodels.api as sm\n",
    "from statsmodels.formula.api import ols"
   ]
  },
  {
   "cell_type": "code",
   "execution_count": 215,
   "metadata": {},
   "outputs": [
    {
     "name": "stdout",
     "output_type": "stream",
     "text": [
      "                                       sum_sq      df          F        PR(>F)\n",
      "edu_salary_1['FormalEducation']  5.548565e+11     6.0  26.127919  1.082559e-30\n",
      "Residual                         1.515907e+13  4283.0        NaN           NaN\n"
     ]
    }
   ],
   "source": [
    "#Your code here\n",
    "\n",
    "edu_salary_1 = edu_salary.dropna()\n",
    "edu_salary_1 = edu_salary_1[(edu_salary_1['AdjustedCompensation'] < 1000000) & (edu_salary_1['AdjustedCompensation'] > 0)]\n",
    "formula = \"edu_salary_1['AdjustedCompensation'] ~ edu_salary_1['FormalEducation']\"\n",
    "lm = ols(formula, edu_salary_1).fit()\n",
    "table = sm.stats.anova_lm(lm, typ=2)\n",
    "print(table)\n",
    "\n",
    "print(\"Because the p value is smaller than 0.05, we have the evindences to reject the null hypothesis that the mean of salaries of those three groups with different\\\n",
    " levels of formal education\")"
   ]
  },
  {
   "cell_type": "markdown",
   "metadata": {},
   "source": [
    "## Additional Resources\n",
    "\n",
    "Here's the original source where the data was taken from:  \n",
    "    [Kaggle Machine Learning & Data Science Survey 2017](https://www.kaggle.com/kaggle/kaggle-survey-2017)"
   ]
  },
  {
   "cell_type": "markdown",
   "metadata": {},
   "source": [
    "## Summary\n",
    "\n",
    "In this lab, you practiced conducting actual hypothesis tests on actual data. From this, you saw how dependent results can be on the initial problem formulation, including preprocessing!"
   ]
  }
 ],
 "metadata": {
  "kernelspec": {
   "display_name": "Python 3",
   "language": "python",
   "name": "python3"
  },
  "language_info": {
   "codemirror_mode": {
    "name": "ipython",
    "version": 3
   },
   "file_extension": ".py",
   "mimetype": "text/x-python",
   "name": "python",
   "nbconvert_exporter": "python",
   "pygments_lexer": "ipython3",
   "version": "3.6.9"
  },
  "toc": {
   "base_numbering": 1,
   "nav_menu": {},
   "number_sections": true,
   "sideBar": true,
   "skip_h1_title": false,
   "title_cell": "Table of Contents",
   "title_sidebar": "Contents",
   "toc_cell": false,
   "toc_position": {},
   "toc_section_display": true,
   "toc_window_display": false
  }
 },
 "nbformat": 4,
 "nbformat_minor": 4
}
